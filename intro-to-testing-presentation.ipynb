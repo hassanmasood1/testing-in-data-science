{
 "cells": [
  {
   "cell_type": "markdown",
   "metadata": {
    "slideshow": {
     "slide_type": "skip"
    }
   },
   "source": [
    "To play slideshow, run this command in the terminal:\n",
    "```\n",
    "$ jupyter nbconvert intro-to-testing-presentation.ipynb --to slides --post serve --SlidesExporter.reveal_theme=night --SlidesExporter.reveal_transition=none\n",
    "```"
   ]
  },
  {
   "cell_type": "markdown",
   "metadata": {
    "slideshow": {
     "slide_type": "slide"
    }
   },
   "source": [
    "<img src=\"img/title_slide.png\" style=\"width: 1000px;\">"
   ]
  },
  {
   "cell_type": "markdown",
   "metadata": {
    "slideshow": {
     "slide_type": "skip"
    }
   },
   "source": [
    "# Getting Started Testing in Data Science\n",
    "\n",
    "Jes Ford, PhD\n",
    "\n",
    "Data Scientist\n",
    "\n",
    "<table><tr>\n",
    "    <td><img src=\"img/venn.png\" style=\"width: 175px;\"></td>\n",
    "    <td><img src=\"img/pytest.png\" style=\"width: 300px;\"></td>\n",
    "    <td><img src=\"img/hypothesis.png\" style=\"width: 175px;\"></td>\n",
    "</tr></table>"
   ]
  },
  {
   "cell_type": "markdown",
   "metadata": {
    "collapsed": true,
    "slideshow": {
     "slide_type": "slide"
    }
   },
   "source": [
    "# Jes Ford\n",
    "\n",
    "Data Scientist at Recursion in Salt Lake City.\n",
    "\n",
    "- Originally from Alaska, have followed the snow all around the western US/Canada\n",
    "- PhD in Astrophysics from UBC, Vancouver\n",
    "- Postdoc in Data Science at UW, Seattle\n",
    "- like many data scientists, no formal training in software best practices\n",
    "\n",
    "<br>\n",
    "\n",
    "<div style=\"background-color:white\">\n",
    "<table bordercolor=\"white\"><tr>\n",
    "<td> <img src=\"img/Recursion.png\" alt=\"Drawing\" style=\"width: 200px;\"/> </td>\n",
    "<td> <p style=\"color:black;font-size:16px;border:none;\"><b>Drug discovery, reimagined through Artificial Intelligence</b><br>We are hiring data scientists, ML researchers, engineers, and more:<br> www.recursionpharma.com/careers </p></p></td>\n",
    "</tr></table>\n",
    "</div>"
   ]
  },
  {
   "cell_type": "markdown",
   "metadata": {
    "slideshow": {
     "slide_type": "slide"
    }
   },
   "source": [
    "# The plan"
   ]
  },
  {
   "cell_type": "code",
   "execution_count": 1,
   "metadata": {
    "ExecuteTime": {
     "end_time": "2019-08-28T03:42:52.864940Z",
     "start_time": "2019-08-28T03:42:52.860047Z"
    },
    "slideshow": {
     "slide_type": "-"
    }
   },
   "outputs": [],
   "source": [
    "def presentation():\n",
    "    motivate_testing()\n",
    "    introduce_testing_with_pytest()\n",
    "    data_science_workflows()\n",
    "    data_science_example_tests()\n",
    "    wrap_up()"
   ]
  },
  {
   "cell_type": "markdown",
   "metadata": {
    "slideshow": {
     "slide_type": "slide"
    }
   },
   "source": [
    "# Why test?\n",
    "\n",
    "- Tests can give you evidence that your code is working as expected\n",
    "- Tests give you confidence to make changes without fear of breaking something\n",
    "- Tests make other people trust your code more"
   ]
  },
  {
   "cell_type": "markdown",
   "metadata": {
    "slideshow": {
     "slide_type": "slide"
    }
   },
   "source": [
    "# Why *not*  test?"
   ]
  },
  {
   "cell_type": "markdown",
   "metadata": {
    "slideshow": {
     "slide_type": "fragment"
    }
   },
   "source": [
    "Writing tests takes time!\n",
    "\n",
    "### The Struggle\n",
    "\n",
    "As a data scientist I am constantly struggling with these competing goals:\n",
    "\n",
    "- getting results as quickly as possible\n",
    "- being as confident as possible that I've got the right answer\n",
    "  \n",
    "$\\rightarrow$ How do we balance these interests in the optimal way?"
   ]
  },
  {
   "cell_type": "markdown",
   "metadata": {
    "slideshow": {
     "slide_type": "notes"
    }
   },
   "source": [
    "This is what my talk is all about. Not just how to write tests, but how to decide when its worth the time and effort."
   ]
  },
  {
   "cell_type": "markdown",
   "metadata": {
    "slideshow": {
     "slide_type": "slide"
    }
   },
   "source": [
    "# In this talk...\n"
   ]
  },
  {
   "cell_type": "markdown",
   "metadata": {
    "slideshow": {
     "slide_type": "fragment"
    }
   },
   "source": [
    "- I will *not* insist that you always write tests"
   ]
  },
  {
   "cell_type": "markdown",
   "metadata": {
    "slideshow": {
     "slide_type": "fragment"
    }
   },
   "source": [
    "- I will describe different scenarios I find myself in as a data scientist and how I try to be confident that my results are correct"
   ]
  },
  {
   "cell_type": "markdown",
   "metadata": {
    "slideshow": {
     "slide_type": "fragment"
    }
   },
   "source": [
    "- I will show you how to get started testing and share some tools for data science testing"
   ]
  },
  {
   "cell_type": "markdown",
   "metadata": {
    "slideshow": {
     "slide_type": "slide"
    }
   },
   "source": [
    "# Disclaimer"
   ]
  },
  {
   "cell_type": "markdown",
   "metadata": {
    "slideshow": {
     "slide_type": "fragment"
    }
   },
   "source": [
    "- I am not a testing expert or a software engineer"
   ]
  },
  {
   "cell_type": "markdown",
   "metadata": {
    "slideshow": {
     "slide_type": "fragment"
    }
   },
   "source": [
    "- \"data science\" covers a huge range of job duties and formal testing is less important in some of them (one-off analyses vs committing to production code base)"
   ]
  },
  {
   "cell_type": "markdown",
   "metadata": {
    "slideshow": {
     "slide_type": "slide"
    }
   },
   "source": [
    "# How do you know if your code is correct??\n",
    "- manual sanity checks\n",
    "- defensive programming\n",
    "- tests"
   ]
  },
  {
   "cell_type": "markdown",
   "metadata": {
    "slideshow": {
     "slide_type": "slide"
    }
   },
   "source": [
    "# How do you know if your code is correct??\n",
    "- manual sanity checks\n",
    "- defensive programming: **assertions within the code**\n",
    "- tests"
   ]
  },
  {
   "cell_type": "code",
   "execution_count": 2,
   "metadata": {
    "ExecuteTime": {
     "end_time": "2019-08-28T03:42:57.502830Z",
     "start_time": "2019-08-28T03:42:57.499556Z"
    },
    "slideshow": {
     "slide_type": "fragment"
    }
   },
   "outputs": [],
   "source": [
    "# assertion example\n",
    "def hello_to_all(list_of_names):\n",
    "    assert len(list_of_names) > 0, 'There is no one here'\n",
    "    print('Hello {}!'.format(', '.join(list_of_names)))"
   ]
  },
  {
   "cell_type": "code",
   "execution_count": 3,
   "metadata": {
    "ExecuteTime": {
     "end_time": "2019-08-28T03:42:57.974001Z",
     "start_time": "2019-08-28T03:42:57.970359Z"
    },
    "slideshow": {
     "slide_type": "fragment"
    }
   },
   "outputs": [
    {
     "name": "stdout",
     "output_type": "stream",
     "text": [
      "Hello Tina, Juan, Emelly!\n"
     ]
    }
   ],
   "source": [
    "hello_to_all(['Tina', 'Juan', 'Emelly'])"
   ]
  },
  {
   "cell_type": "markdown",
   "metadata": {
    "slideshow": {
     "slide_type": "slide"
    }
   },
   "source": [
    "# How do you know if your code is correct??\n",
    "- manual sanity checks\n",
    "- defensive programming: **assertions within the code**\n",
    "- tests"
   ]
  },
  {
   "cell_type": "code",
   "execution_count": 4,
   "metadata": {
    "ExecuteTime": {
     "end_time": "2019-08-28T03:42:59.773740Z",
     "start_time": "2019-08-28T03:42:59.770448Z"
    },
    "slideshow": {
     "slide_type": "-"
    }
   },
   "outputs": [],
   "source": [
    "# assertion example\n",
    "def hello_to_all(list_of_names):\n",
    "    assert len(list_of_names) > 0, 'There is no one here'\n",
    "    print('Hello {}!'.format(', '.join(list_of_names)))"
   ]
  },
  {
   "cell_type": "code",
   "execution_count": 5,
   "metadata": {
    "ExecuteTime": {
     "end_time": "2019-08-28T03:43:00.360180Z",
     "start_time": "2019-08-28T03:43:00.277238Z"
    },
    "slideshow": {
     "slide_type": "-"
    }
   },
   "outputs": [
    {
     "ename": "AssertionError",
     "evalue": "There is no one here",
     "output_type": "error",
     "traceback": [
      "\u001b[0;31m---------------------------------------------------------------------------\u001b[0m",
      "\u001b[0;31mAssertionError\u001b[0m                            Traceback (most recent call last)",
      "\u001b[0;32m<ipython-input-5-976e84a8fe8e>\u001b[0m in \u001b[0;36m<module>\u001b[0;34m\u001b[0m\n\u001b[0;32m----> 1\u001b[0;31m \u001b[0mhello_to_all\u001b[0m\u001b[0;34m(\u001b[0m\u001b[0;34m[\u001b[0m\u001b[0;34m]\u001b[0m\u001b[0;34m)\u001b[0m\u001b[0;34m\u001b[0m\u001b[0;34m\u001b[0m\u001b[0m\n\u001b[0m",
      "\u001b[0;32m<ipython-input-4-1fb3826b63a8>\u001b[0m in \u001b[0;36mhello_to_all\u001b[0;34m(list_of_names)\u001b[0m\n\u001b[1;32m      1\u001b[0m \u001b[0;31m# assertion example\u001b[0m\u001b[0;34m\u001b[0m\u001b[0;34m\u001b[0m\u001b[0;34m\u001b[0m\u001b[0m\n\u001b[1;32m      2\u001b[0m \u001b[0;32mdef\u001b[0m \u001b[0mhello_to_all\u001b[0m\u001b[0;34m(\u001b[0m\u001b[0mlist_of_names\u001b[0m\u001b[0;34m)\u001b[0m\u001b[0;34m:\u001b[0m\u001b[0;34m\u001b[0m\u001b[0;34m\u001b[0m\u001b[0m\n\u001b[0;32m----> 3\u001b[0;31m     \u001b[0;32massert\u001b[0m \u001b[0mlen\u001b[0m\u001b[0;34m(\u001b[0m\u001b[0mlist_of_names\u001b[0m\u001b[0;34m)\u001b[0m \u001b[0;34m>\u001b[0m \u001b[0;36m0\u001b[0m\u001b[0;34m,\u001b[0m \u001b[0;34m'There is no one here'\u001b[0m\u001b[0;34m\u001b[0m\u001b[0;34m\u001b[0m\u001b[0m\n\u001b[0m\u001b[1;32m      4\u001b[0m     \u001b[0mprint\u001b[0m\u001b[0;34m(\u001b[0m\u001b[0;34m'Hello {}!'\u001b[0m\u001b[0;34m.\u001b[0m\u001b[0mformat\u001b[0m\u001b[0;34m(\u001b[0m\u001b[0;34m', '\u001b[0m\u001b[0;34m.\u001b[0m\u001b[0mjoin\u001b[0m\u001b[0;34m(\u001b[0m\u001b[0mlist_of_names\u001b[0m\u001b[0;34m)\u001b[0m\u001b[0;34m)\u001b[0m\u001b[0;34m)\u001b[0m\u001b[0;34m\u001b[0m\u001b[0;34m\u001b[0m\u001b[0m\n",
      "\u001b[0;31mAssertionError\u001b[0m: There is no one here"
     ]
    }
   ],
   "source": [
    "hello_to_all([])"
   ]
  },
  {
   "cell_type": "markdown",
   "metadata": {
    "slideshow": {
     "slide_type": "slide"
    }
   },
   "source": [
    "# Assertions\n",
    "\n",
    "are a careful data scientist's best friend. This is your middle ground of checking for expected behavior with extremely minimal effort! Check that you don't have any duplicated data, missing values, consistent dataframe shapes, column data types, etc.\n",
    "\n",
    "If you take nothing else away from this talk, start adding assertions within your code."
   ]
  },
  {
   "cell_type": "markdown",
   "metadata": {
    "slideshow": {
     "slide_type": "slide"
    }
   },
   "source": [
    "# Simple test example"
   ]
  },
  {
   "cell_type": "code",
   "execution_count": 6,
   "metadata": {
    "ExecuteTime": {
     "end_time": "2019-08-28T03:43:04.344521Z",
     "start_time": "2019-08-28T03:43:04.341942Z"
    },
    "slideshow": {
     "slide_type": "fragment"
    }
   },
   "outputs": [],
   "source": [
    "def backwards_allcaps(text):\n",
    "    return text[::-1].upper()"
   ]
  },
  {
   "cell_type": "code",
   "execution_count": 7,
   "metadata": {
    "ExecuteTime": {
     "end_time": "2019-08-28T03:43:04.878867Z",
     "start_time": "2019-08-28T03:43:04.869706Z"
    },
    "slideshow": {
     "slide_type": "fragment"
    }
   },
   "outputs": [
    {
     "data": {
      "text/plain": [
       "'NOHTYP'"
      ]
     },
     "execution_count": 7,
     "metadata": {},
     "output_type": "execute_result"
    }
   ],
   "source": [
    "backwards_allcaps('Python')"
   ]
  },
  {
   "cell_type": "code",
   "execution_count": 8,
   "metadata": {
    "ExecuteTime": {
     "end_time": "2019-08-28T03:43:06.231369Z",
     "start_time": "2019-08-28T03:43:06.228792Z"
    },
    "slideshow": {
     "slide_type": "fragment"
    }
   },
   "outputs": [],
   "source": [
    "def test_backwards_allcaps():\n",
    "    assert backwards_allcaps('pluralsight') == 'THGISLARULP'\n",
    "    assert backwards_allcaps('Live') == 'EVIL'"
   ]
  },
  {
   "cell_type": "markdown",
   "metadata": {
    "slideshow": {
     "slide_type": "slide"
    }
   },
   "source": [
    "# pytest\n",
    "\n",
    "- less boilerplate $\\rightarrow$ easier/faster test writing\n",
    "- automatically handles finding, collecting, running, evaluating your tests\n",
    "- when tests fail you can get a lot of useful info\n",
    "- lots of powerful built in features\n",
    "- just works (with benefits) on existing tests written for unittest or nose\n",
    "\n",
    "`$ pip install pytest`"
   ]
  },
  {
   "cell_type": "markdown",
   "metadata": {
    "slideshow": {
     "slide_type": "notes"
    }
   },
   "source": [
    "vs unittest requires tests to be wrapped inside classes which subclass from unittest.TestCase; pytest you just write functions with simple regular assert statements, which easier to read/write\n"
   ]
  },
  {
   "cell_type": "markdown",
   "metadata": {
    "slideshow": {
     "slide_type": "slide"
    }
   },
   "source": [
    "## Finding your tests\n",
    "\n",
    "pytest searches all directories below the current directory for files that start or end with \"test\" (`test_*.py`, `*_test.py`) and runs any functions and classes like `def test_the_things()` and `class TestStuff()`.\n",
    "\n",
    "```\n",
    "myproject/\n",
    "    myproject/\n",
    "        myproject.py\n",
    "        utils.py\n",
    "        __init__.py\n",
    "    tests/\n",
    "        test_myproject.py\n",
    "    setup.py\n",
    "    README.md\n",
    "    LICENSE.txt\n",
    "```\n",
    "\n",
    "This is a typical directory layout, but its not required. You can configure where pytest looks for tests, so really you *can* put them pretty much anywhere."
   ]
  },
  {
   "cell_type": "markdown",
   "metadata": {
    "slideshow": {
     "slide_type": "slide"
    }
   },
   "source": [
    "## Test Driven Development\n",
    "\n",
    "TDD: write the test *before* you write the code it is testing."
   ]
  },
  {
   "cell_type": "markdown",
   "metadata": {
    "slideshow": {
     "slide_type": "fragment"
    }
   },
   "source": [
    "- reasons to use TDD:\n",
    "  - makes you define your code requirements up front\n",
    "  - helps frame how you'll write the code\n",
    "  - is more fun\n",
    "- reasons to not use TDD:\n",
    "  - not always possible to define requirements up front (data exploratoration)\n",
    "  - time constraints (need quick bugfix)"
   ]
  },
  {
   "cell_type": "markdown",
   "metadata": {
    "slideshow": {
     "slide_type": "slide"
    }
   },
   "source": [
    "# pytest demo"
   ]
  },
  {
   "cell_type": "code",
   "execution_count": 9,
   "metadata": {
    "ExecuteTime": {
     "end_time": "2019-08-28T03:43:33.596493Z",
     "start_time": "2019-08-28T03:43:33.593290Z"
    },
    "slideshow": {
     "slide_type": "fragment"
    }
   },
   "outputs": [],
   "source": [
    "# contents of demo_tdd.py\n",
    "\n",
    "def backwards_allcaps(text):\n",
    "    return text[::-1].upper()\n",
    "\n",
    "\n",
    "def test_backwards_allcaps():\n",
    "    assert backwards_allcaps('pluralsight') == 'THGISLARULP'\n",
    "    assert backwards_allcaps('Live') == 'EVIL'"
   ]
  },
  {
   "cell_type": "markdown",
   "metadata": {
    "slideshow": {
     "slide_type": "-"
    }
   },
   "source": [
    "How to run tests?\n",
    "\n",
    "\n",
    "```\n",
    "$ pytest demo_tdd.py\n",
    "```"
   ]
  },
  {
   "cell_type": "markdown",
   "metadata": {
    "ExecuteTime": {
     "end_time": "2019-02-20T01:35:38.727089Z",
     "start_time": "2019-02-20T01:35:38.688352Z"
    },
    "slideshow": {
     "slide_type": "slide"
    }
   },
   "source": [
    "<img src=\"img/tdd_1.png\" style=\"width: 1200px;\">"
   ]
  },
  {
   "cell_type": "markdown",
   "metadata": {
    "slideshow": {
     "slide_type": "fragment"
    }
   },
   "source": [
    "<img src=\"img/tdd_2.png\" style=\"width: 1200px;\">"
   ]
  },
  {
   "cell_type": "markdown",
   "metadata": {
    "slideshow": {
     "slide_type": "slide"
    }
   },
   "source": [
    "## *New feature:*  whitespace should be removed from input text"
   ]
  },
  {
   "cell_type": "code",
   "execution_count": 10,
   "metadata": {
    "ExecuteTime": {
     "end_time": "2019-08-28T03:43:39.095955Z",
     "start_time": "2019-08-28T03:43:39.092701Z"
    },
    "slideshow": {
     "slide_type": "-"
    }
   },
   "outputs": [],
   "source": [
    "def backwards_allcaps(text):\n",
    "    return text[::-1].upper()\n",
    "\n",
    "\n",
    "def test_backwards_allcaps():\n",
    "    assert backwards_allcaps('pluralsight') == 'THGISLARULP'\n",
    "    assert backwards_allcaps('Live') == 'EVIL'"
   ]
  },
  {
   "cell_type": "markdown",
   "metadata": {
    "slideshow": {
     "slide_type": "fragment"
    }
   },
   "source": [
    "### TDD:\n",
    "1. add a test\n",
    "2. run the test (it should fail)\n",
    "3. add the feature\n",
    "4. run the test"
   ]
  },
  {
   "cell_type": "markdown",
   "metadata": {
    "slideshow": {
     "slide_type": "slide"
    }
   },
   "source": [
    "## *New feature:*  whitespace should be removed from input text"
   ]
  },
  {
   "cell_type": "code",
   "execution_count": 11,
   "metadata": {
    "ExecuteTime": {
     "end_time": "2019-08-28T03:43:40.397790Z",
     "start_time": "2019-08-28T03:43:40.394661Z"
    },
    "slideshow": {
     "slide_type": "-"
    }
   },
   "outputs": [],
   "source": [
    "def backwards_allcaps(text):\n",
    "    return text[::-1].upper()\n",
    "\n",
    "\n",
    "def test_backwards_allcaps():\n",
    "    assert backwards_allcaps('pluralsight') == 'THGISLARULP'\n",
    "    assert backwards_allcaps('Live') == 'EVIL'\n",
    "\n",
    "\n",
    "def test_letters_only():\n",
    "    assert backwards_allcaps('Salt Lake City') == 'YTICEKALTLAS'  # step 1"
   ]
  },
  {
   "cell_type": "markdown",
   "metadata": {
    "ExecuteTime": {
     "end_time": "2019-02-20T01:35:38.727089Z",
     "start_time": "2019-02-20T01:35:38.688352Z"
    },
    "slideshow": {
     "slide_type": "slide"
    }
   },
   "source": [
    "<img src=\"img/tdd_3.png\" style=\"width: 1200px;\">"
   ]
  },
  {
   "cell_type": "markdown",
   "metadata": {
    "slideshow": {
     "slide_type": "slide"
    }
   },
   "source": [
    "## *New feature:*  whitespace should be removed from input text"
   ]
  },
  {
   "cell_type": "code",
   "execution_count": 12,
   "metadata": {
    "ExecuteTime": {
     "end_time": "2019-08-28T03:43:44.361431Z",
     "start_time": "2019-08-28T03:43:44.358138Z"
    },
    "slideshow": {
     "slide_type": "-"
    }
   },
   "outputs": [],
   "source": [
    "def backwards_allcaps(text):\n",
    "    return text[::-1].replace(' ', '').upper()            # step 2\n",
    "\n",
    "\n",
    "def test_backwards_allcaps():\n",
    "    assert backwards_allcaps('pluralsight') == 'THGISLARULP'\n",
    "    assert backwards_allcaps('Live') == 'EVIL'\n",
    "\n",
    "\n",
    "def test_letters_only():\n",
    "    assert backwards_allcaps('Salt Lake City') == 'YTICEKALTLAS'  # step 1"
   ]
  },
  {
   "cell_type": "markdown",
   "metadata": {
    "ExecuteTime": {
     "end_time": "2019-02-20T01:35:38.727089Z",
     "start_time": "2019-02-20T01:35:38.688352Z"
    },
    "slideshow": {
     "slide_type": "slide"
    }
   },
   "source": [
    "<img src=\"img/tdd_5.png\" style=\"width: 1200px;\">"
   ]
  },
  {
   "cell_type": "markdown",
   "metadata": {
    "slideshow": {
     "slide_type": "slide"
    }
   },
   "source": [
    "## *Bugfix:* passing an empty string should raise an error"
   ]
  },
  {
   "cell_type": "code",
   "execution_count": 13,
   "metadata": {
    "ExecuteTime": {
     "end_time": "2019-08-28T03:43:46.700606Z",
     "start_time": "2019-08-28T03:43:46.696660Z"
    },
    "slideshow": {
     "slide_type": "-"
    }
   },
   "outputs": [],
   "source": [
    "def backwards_allcaps(text):\n",
    "    return text[::-1].replace(' ', '').upper()\n",
    "\n",
    "\n",
    "def test_backwards_allcaps():\n",
    "    assert backwards_allcaps('pluralsight') == 'THGISLARULP'\n",
    "    assert backwards_allcaps('Live') == 'EVIL'\n",
    "\n",
    "\n",
    "def test_letters_only():\n",
    "    assert backwards_allcaps('Salt Lake City') == 'YTICEKALTLAS'"
   ]
  },
  {
   "cell_type": "markdown",
   "metadata": {
    "slideshow": {
     "slide_type": "slide"
    }
   },
   "source": [
    "## *Bugfix:* passing an empty string should raise an error"
   ]
  },
  {
   "cell_type": "code",
   "execution_count": 14,
   "metadata": {
    "ExecuteTime": {
     "end_time": "2019-08-28T03:43:47.741289Z",
     "start_time": "2019-08-28T03:43:47.401185Z"
    },
    "slideshow": {
     "slide_type": "-"
    }
   },
   "outputs": [],
   "source": [
    "import pytest\n",
    "\n",
    "\n",
    "def backwards_allcaps(text):\n",
    "    return text[::-1].replace(' ', '').upper()\n",
    "\n",
    "\n",
    "def test_backwards_allcaps():\n",
    "    assert backwards_allcaps('pluralsight') == 'THGISLARULP'\n",
    "    assert backwards_allcaps('Live') == 'EVIL'\n",
    "\n",
    "\n",
    "def test_letters_only():\n",
    "    assert backwards_allcaps('Salt Lake City') == 'YTICEKALTLAS'\n",
    "\n",
    "\n",
    "def test_bad_string():                                       # step 1\n",
    "    with pytest.raises(AttributeError):\n",
    "        backwards_allcaps('')"
   ]
  },
  {
   "cell_type": "markdown",
   "metadata": {
    "ExecuteTime": {
     "end_time": "2019-02-20T01:35:38.727089Z",
     "start_time": "2019-02-20T01:35:38.688352Z"
    },
    "slideshow": {
     "slide_type": "slide"
    }
   },
   "source": [
    "<img src=\"img/tdd_6.png\" style=\"width: 1100px;\">"
   ]
  },
  {
   "cell_type": "markdown",
   "metadata": {
    "slideshow": {
     "slide_type": "slide"
    }
   },
   "source": [
    "## *Bugfix:* passing an empty string should raise an error"
   ]
  },
  {
   "cell_type": "code",
   "execution_count": 15,
   "metadata": {
    "ExecuteTime": {
     "end_time": "2019-08-28T03:43:49.682625Z",
     "start_time": "2019-08-28T03:43:49.678061Z"
    },
    "slideshow": {
     "slide_type": "-"
    }
   },
   "outputs": [],
   "source": [
    "import pytest\n",
    "\n",
    "\n",
    "def backwards_allcaps(text):\n",
    "    if len(text) == 0:\n",
    "        raise AttributeError('String must contain letters')  # step 2\n",
    "    return text[::-1].replace(' ', '').upper()\n",
    "\n",
    "\n",
    "def test_backwards_allcaps():\n",
    "    assert backwards_allcaps('pluralsight') == 'THGISLARULP'\n",
    "    assert backwards_allcaps('Live') == 'EVIL'\n",
    "\n",
    "\n",
    "def test_letters_only():\n",
    "    assert backwards_allcaps('Salt Lake City') == 'YTICEKALTLAS'\n",
    "\n",
    "\n",
    "def test_bad_string():                                       # step 1\n",
    "    with pytest.raises(AttributeError):\n",
    "        backwards_allcaps('')"
   ]
  },
  {
   "cell_type": "markdown",
   "metadata": {
    "slideshow": {
     "slide_type": "slide"
    }
   },
   "source": [
    "<img src=\"img/tdd_7.png\" style=\"width: 1100px;\">"
   ]
  },
  {
   "cell_type": "markdown",
   "metadata": {
    "slideshow": {
     "slide_type": "slide"
    }
   },
   "source": [
    "# How many tests do we have?"
   ]
  },
  {
   "cell_type": "code",
   "execution_count": 16,
   "metadata": {
    "ExecuteTime": {
     "end_time": "2019-08-28T03:43:53.481669Z",
     "start_time": "2019-08-28T03:43:53.477564Z"
    },
    "slideshow": {
     "slide_type": "-"
    }
   },
   "outputs": [],
   "source": [
    "import pytest\n",
    "\n",
    "\n",
    "def backwards_allcaps(text):\n",
    "    if len(text) == 0:\n",
    "        raise AttributeError('String must contain letters')\n",
    "    return text[::-1].replace(' ', '').upper()\n",
    "\n",
    "\n",
    "def test_backwards_allcaps():\n",
    "    assert backwards_allcaps('pluralsight') == 'THGISLARULP'\n",
    "    assert backwards_allcaps('Live') == 'EVIL'\n",
    "\n",
    "\n",
    "def test_letters_only():\n",
    "    assert backwards_allcaps('Salt Lake City') == 'YTICEKALTLAS'\n",
    "\n",
    "\n",
    "def test_bad_string():\n",
    "    with pytest.raises(AttributeError):\n",
    "        backwards_allcaps('')"
   ]
  },
  {
   "cell_type": "markdown",
   "metadata": {
    "slideshow": {
     "slide_type": "notes"
    }
   },
   "source": [
    "Most of the tests we have written use the same pattern of asserting that our function run on some input gives us an expected output. Instead of reusing this same assert pattern repeatedly we would like a way to avoid duplicating code.\n",
    "\n",
    "Additionally, each assert statement can be thought of as a unique test, but with the current set up pytest treats each test function as a unique test instead, which means that if the first assert statement in a test function fails, the assertions after it *are not run*.\n",
    "\n",
    "As an example, run the tests again with the typo below introduced. Try using the verbose flag `pytest -v demo_tdd_intro.py`."
   ]
  },
  {
   "cell_type": "markdown",
   "metadata": {
    "slideshow": {
     "slide_type": "slide"
    }
   },
   "source": [
    "# Fixtures Demo"
   ]
  },
  {
   "cell_type": "markdown",
   "metadata": {
    "slideshow": {
     "slide_type": "slide"
    }
   },
   "source": [
    "## Parametrize the data test cases with a fixture\n",
    "- abstracts the data test cases away from the actual test itself\n",
    "- allows all assertions to be checked and treated as separate tests"
   ]
  },
  {
   "cell_type": "code",
   "execution_count": 17,
   "metadata": {
    "ExecuteTime": {
     "end_time": "2019-08-28T03:44:01.334174Z",
     "start_time": "2019-08-28T03:44:01.328608Z"
    },
    "slideshow": {
     "slide_type": "-"
    }
   },
   "outputs": [],
   "source": [
    "import pytest\n",
    "\n",
    "def backwards_allcaps(text):\n",
    "    if len(text) == 0:\n",
    "        raise AttributeError('String must contain letters')\n",
    "    return text[::-1].replace(' ', '').upper()\n",
    "\n",
    "@pytest.fixture(params=[\n",
    "    {'input': 'pluralsight', 'output': 'THGISLARULP'},\n",
    "    {'input': 'Live', 'output': 'EVIL'},\n",
    "    {'input': 'Salt Lake City', 'output': 'YTICEKALTLAS'}])\n",
    "def test_data(request):\n",
    "    return request.param\n",
    "\n",
    "def test_backwards_allcaps(test_data):\n",
    "    assert backwards_allcaps(test_data['input']) == test_data['output']\n",
    "\n",
    "def test_bad_string():\n",
    "    with pytest.raises(AttributeError):\n",
    "        backwards_allcaps('')"
   ]
  },
  {
   "cell_type": "markdown",
   "metadata": {
    "slideshow": {
     "slide_type": "slide"
    }
   },
   "source": [
    "<img src=\"img/tdd_8.png\" style=\"width: 1100px;\">"
   ]
  },
  {
   "cell_type": "markdown",
   "metadata": {
    "slideshow": {
     "slide_type": "-"
    }
   },
   "source": [
    "### Now each assertion is an independent test"
   ]
  },
  {
   "cell_type": "markdown",
   "metadata": {
    "slideshow": {
     "slide_type": "slide"
    }
   },
   "source": [
    "# That's great, but these examples were dumb\n",
    "\n",
    "1. these test examples don't really apply to data science work\n",
    "2. this TDD workflow isn't always reasonable during research & exploration"
   ]
  },
  {
   "cell_type": "markdown",
   "metadata": {
    "slideshow": {
     "slide_type": "slide"
    }
   },
   "source": [
    "# Data Science Domain Problems\n",
    "\n",
    "- dataframes are the input and output of your functions\n",
    "- working with databases\n",
    "- ML models with non-deterministic outcomes\n",
    "- acceptable tolerances on results\n",
    "- testing for properties of things rather than exact values"
   ]
  },
  {
   "cell_type": "markdown",
   "metadata": {
    "slideshow": {
     "slide_type": "slide"
    }
   },
   "source": [
    "# Data Science Workflows"
   ]
  },
  {
   "cell_type": "markdown",
   "metadata": {
    "slideshow": {
     "slide_type": "fragment"
    }
   },
   "source": [
    "1. \"One-off analysis\"\n",
    "2. Exploratory\n",
    "3. Well defined problem"
   ]
  },
  {
   "cell_type": "markdown",
   "metadata": {
    "slideshow": {
     "slide_type": "slide"
    }
   },
   "source": [
    "# Data Science Workflows\n",
    "1. **\"One-off analysis\"** $\\leftarrow$\n",
    "2. Exploratory\n",
    "3. Well defined problem\n",
    "\n",
    "### For one-off analyses I do not write tests, I focus on clear documentation.\n",
    "\n",
    "If it *does* get revisited, I'll consider breaking the code out of a notebook and into a module (possibly refactoring) and adding some tests."
   ]
  },
  {
   "cell_type": "markdown",
   "metadata": {
    "slideshow": {
     "slide_type": "slide"
    }
   },
   "source": [
    "# Data Science Workflows\n",
    "1. \"One-off analysis\"\n",
    "2. **Exploratory** $\\leftarrow$\n",
    "3. Well defined problem\n",
    "\n",
    "### Impossible to test during exploration. However, there is almost always code created in this phase that is useful in a later stage of the project.\n",
    "\n",
    "Judgment call needed as my legacy/untested code base grows..."
   ]
  },
  {
   "cell_type": "markdown",
   "metadata": {
    "slideshow": {
     "slide_type": "slide"
    }
   },
   "source": [
    "# Data Science Workflows\n",
    "1. \"One-off analysis\"\n",
    "2. Exploratory\n",
    "3. **Well defined problem**  $\\leftarrow$\n",
    "\n",
    "### For a fairly well defined problem, I try very hard to write tests as I develop the code."
   ]
  },
  {
   "cell_type": "markdown",
   "metadata": {
    "slideshow": {
     "slide_type": "slide"
    }
   },
   "source": [
    "# Data Science Workflows\n",
    "1. \"One-off analysis\"\n",
    "2. **Exploratory**  $\\leftarrow$\n",
    "3. Well defined problem\n",
    "4. **Legacy code**  $\\leftarrow$\n",
    "\n",
    "### Once I realize I will need to reuse code, I try to start adding tests *when I modify it.*\n",
    "\n",
    "Generally, if I'm confident something is working now, I'll only bother to add tests when I'm adding features or fixing bugs. (Inspired by [Justin Crown's PyCon 2018 talk](https://www.youtube.com/watch?v=LDdUuoI_lIg))."
   ]
  },
  {
   "cell_type": "markdown",
   "metadata": {
    "slideshow": {
     "slide_type": "slide"
    }
   },
   "source": [
    "# Data Science Domain Problems\n",
    "\n",
    "Examples of tests for common data science problems"
   ]
  },
  {
   "cell_type": "markdown",
   "metadata": {
    "slideshow": {
     "slide_type": "slide"
    }
   },
   "source": [
    "# Working with Pandas DataFrames\n",
    "\n",
    "Checking for duplicates and missing values."
   ]
  },
  {
   "cell_type": "code",
   "execution_count": 18,
   "metadata": {
    "ExecuteTime": {
     "end_time": "2019-08-28T03:44:10.350532Z",
     "start_time": "2019-08-28T03:44:08.796750Z"
    },
    "slideshow": {
     "slide_type": "-"
    }
   },
   "outputs": [
    {
     "data": {
      "text/html": [
       "<div>\n",
       "<style scoped>\n",
       "    .dataframe tbody tr th:only-of-type {\n",
       "        vertical-align: middle;\n",
       "    }\n",
       "\n",
       "    .dataframe tbody tr th {\n",
       "        vertical-align: top;\n",
       "    }\n",
       "\n",
       "    .dataframe thead th {\n",
       "        text-align: right;\n",
       "    }\n",
       "</style>\n",
       "<table border=\"1\" class=\"dataframe\">\n",
       "  <thead>\n",
       "    <tr style=\"text-align: right;\">\n",
       "      <th></th>\n",
       "      <th>channel</th>\n",
       "      <th>customer</th>\n",
       "      <th>order</th>\n",
       "    </tr>\n",
       "  </thead>\n",
       "  <tbody>\n",
       "    <tr>\n",
       "      <th>0</th>\n",
       "      <td>email</td>\n",
       "      <td>1</td>\n",
       "      <td>1010</td>\n",
       "    </tr>\n",
       "    <tr>\n",
       "      <th>1</th>\n",
       "      <td>paid_search</td>\n",
       "      <td>4</td>\n",
       "      <td>2050</td>\n",
       "    </tr>\n",
       "    <tr>\n",
       "      <th>2</th>\n",
       "      <td>display</td>\n",
       "      <td>4</td>\n",
       "      <td>2050</td>\n",
       "    </tr>\n",
       "    <tr>\n",
       "      <th>3</th>\n",
       "      <td>email</td>\n",
       "      <td>3</td>\n",
       "      <td>3232</td>\n",
       "    </tr>\n",
       "  </tbody>\n",
       "</table>\n",
       "</div>"
      ],
      "text/plain": [
       "       channel  customer  order\n",
       "0        email         1   1010\n",
       "1  paid_search         4   2050\n",
       "2      display         4   2050\n",
       "3        email         3   3232"
      ]
     },
     "execution_count": 18,
     "metadata": {},
     "output_type": "execute_result"
    }
   ],
   "source": [
    "import pandas as pd\n",
    "import numpy as np\n",
    "\n",
    "\n",
    "df = pd.DataFrame({'channel': ['email', 'paid_search', 'display', 'email'],\n",
    "                   'customer': [1, 4, 4, 3],\n",
    "                   'order': [1010, 2050, 2050, 3232]})\n",
    "df"
   ]
  },
  {
   "cell_type": "code",
   "execution_count": 19,
   "metadata": {
    "ExecuteTime": {
     "end_time": "2019-08-28T03:44:12.793457Z",
     "start_time": "2019-08-28T03:44:12.787488Z"
    },
    "slideshow": {
     "slide_type": "fragment"
    }
   },
   "outputs": [],
   "source": [
    "assert df.notnull().all().all()\n",
    "assert ~df.isnull().any().any()\n",
    "assert df.isnull().sum().sum() == 0"
   ]
  },
  {
   "cell_type": "markdown",
   "metadata": {
    "slideshow": {
     "slide_type": "slide"
    }
   },
   "source": [
    "# Working with Pandas DataFrames\n",
    "\n",
    "Checking for duplicates and missing values."
   ]
  },
  {
   "cell_type": "code",
   "execution_count": 20,
   "metadata": {
    "ExecuteTime": {
     "end_time": "2019-08-28T03:44:21.119971Z",
     "start_time": "2019-08-28T03:44:21.112920Z"
    },
    "slideshow": {
     "slide_type": "-"
    }
   },
   "outputs": [
    {
     "data": {
      "text/html": [
       "<div>\n",
       "<style scoped>\n",
       "    .dataframe tbody tr th:only-of-type {\n",
       "        vertical-align: middle;\n",
       "    }\n",
       "\n",
       "    .dataframe tbody tr th {\n",
       "        vertical-align: top;\n",
       "    }\n",
       "\n",
       "    .dataframe thead th {\n",
       "        text-align: right;\n",
       "    }\n",
       "</style>\n",
       "<table border=\"1\" class=\"dataframe\">\n",
       "  <thead>\n",
       "    <tr style=\"text-align: right;\">\n",
       "      <th></th>\n",
       "      <th>channel</th>\n",
       "      <th>customer</th>\n",
       "      <th>order</th>\n",
       "    </tr>\n",
       "  </thead>\n",
       "  <tbody>\n",
       "    <tr>\n",
       "      <th>0</th>\n",
       "      <td>email</td>\n",
       "      <td>1</td>\n",
       "      <td>1010</td>\n",
       "    </tr>\n",
       "    <tr>\n",
       "      <th>1</th>\n",
       "      <td>paid_search</td>\n",
       "      <td>4</td>\n",
       "      <td>2050</td>\n",
       "    </tr>\n",
       "    <tr>\n",
       "      <th>2</th>\n",
       "      <td>display</td>\n",
       "      <td>4</td>\n",
       "      <td>2050</td>\n",
       "    </tr>\n",
       "    <tr>\n",
       "      <th>3</th>\n",
       "      <td>email</td>\n",
       "      <td>3</td>\n",
       "      <td>3232</td>\n",
       "    </tr>\n",
       "  </tbody>\n",
       "</table>\n",
       "</div>"
      ],
      "text/plain": [
       "       channel  customer  order\n",
       "0        email         1   1010\n",
       "1  paid_search         4   2050\n",
       "2      display         4   2050\n",
       "3        email         3   3232"
      ]
     },
     "execution_count": 20,
     "metadata": {},
     "output_type": "execute_result"
    }
   ],
   "source": [
    "df"
   ]
  },
  {
   "cell_type": "code",
   "execution_count": 21,
   "metadata": {
    "ExecuteTime": {
     "end_time": "2019-08-28T03:44:22.564086Z",
     "start_time": "2019-08-28T03:44:22.557360Z"
    },
    "slideshow": {
     "slide_type": "-"
    }
   },
   "outputs": [],
   "source": [
    "assert ~df.duplicated().any()"
   ]
  },
  {
   "cell_type": "code",
   "execution_count": 22,
   "metadata": {
    "ExecuteTime": {
     "end_time": "2019-08-28T03:44:28.033610Z",
     "start_time": "2019-08-28T03:44:27.980438Z"
    },
    "slideshow": {
     "slide_type": "fragment"
    }
   },
   "outputs": [
    {
     "ename": "ValueError",
     "evalue": "Duplicate records found for order",
     "output_type": "error",
     "traceback": [
      "\u001b[0;31m---------------------------------------------------------------------------\u001b[0m",
      "\u001b[0;31mValueError\u001b[0m                                Traceback (most recent call last)",
      "\u001b[0;32m<ipython-input-22-d574c85f7f29>\u001b[0m in \u001b[0;36m<module>\u001b[0;34m\u001b[0m\n\u001b[1;32m      1\u001b[0m \u001b[0;32mif\u001b[0m \u001b[0mdf\u001b[0m\u001b[0;34m.\u001b[0m\u001b[0mduplicated\u001b[0m\u001b[0;34m(\u001b[0m\u001b[0msubset\u001b[0m\u001b[0;34m=\u001b[0m\u001b[0;34m[\u001b[0m\u001b[0;34m'order'\u001b[0m\u001b[0;34m]\u001b[0m\u001b[0;34m)\u001b[0m\u001b[0;34m.\u001b[0m\u001b[0many\u001b[0m\u001b[0;34m(\u001b[0m\u001b[0;34m)\u001b[0m\u001b[0;34m:\u001b[0m\u001b[0;34m\u001b[0m\u001b[0;34m\u001b[0m\u001b[0m\n\u001b[0;32m----> 2\u001b[0;31m     \u001b[0;32mraise\u001b[0m \u001b[0mValueError\u001b[0m\u001b[0;34m(\u001b[0m\u001b[0;34m'Duplicate records found for order'\u001b[0m\u001b[0;34m)\u001b[0m\u001b[0;34m\u001b[0m\u001b[0;34m\u001b[0m\u001b[0m\n\u001b[0m",
      "\u001b[0;31mValueError\u001b[0m: Duplicate records found for order"
     ]
    }
   ],
   "source": [
    "if df.duplicated(subset=['order']).any():\n",
    "    raise ValueError('Duplicate records found for order')"
   ]
  },
  {
   "cell_type": "markdown",
   "metadata": {
    "slideshow": {
     "slide_type": "slide"
    }
   },
   "source": [
    "# Working with Pandas DataFrames\n",
    "\n",
    "Built in utilities that help you test."
   ]
  },
  {
   "cell_type": "code",
   "execution_count": 23,
   "metadata": {
    "ExecuteTime": {
     "end_time": "2019-08-28T03:44:42.227573Z",
     "start_time": "2019-08-28T03:44:42.224447Z"
    },
    "slideshow": {
     "slide_type": "-"
    }
   },
   "outputs": [],
   "source": [
    "from pandas.util.testing import assert_frame_equal\n",
    "from pandas.util.testing import assert_index_equal\n",
    "from pandas.util.testing import assert_series_equal"
   ]
  },
  {
   "cell_type": "code",
   "execution_count": 24,
   "metadata": {
    "ExecuteTime": {
     "end_time": "2019-08-28T03:44:43.373342Z",
     "start_time": "2019-08-28T03:44:43.370483Z"
    },
    "slideshow": {
     "slide_type": "skip"
    }
   },
   "outputs": [],
   "source": [
    "df2 = df.copy()"
   ]
  },
  {
   "cell_type": "code",
   "execution_count": 25,
   "metadata": {
    "ExecuteTime": {
     "end_time": "2019-08-28T03:44:44.260335Z",
     "start_time": "2019-08-28T03:44:44.249638Z"
    },
    "slideshow": {
     "slide_type": "fragment"
    }
   },
   "outputs": [],
   "source": [
    "assert_frame_equal(df, df2,\n",
    "                   check_like=True,       # order of columns/rows doesn't matter\n",
    "                   check_dtype=False,     # check for identical data types\n",
    "                   check_less_precise=4)  # number of digits to compare"
   ]
  },
  {
   "cell_type": "markdown",
   "metadata": {
    "slideshow": {
     "slide_type": "-"
    }
   },
   "source": [
    "Also handles NaN or None comparisons \"as expected\"."
   ]
  },
  {
   "cell_type": "markdown",
   "metadata": {
    "slideshow": {
     "slide_type": "slide"
    }
   },
   "source": [
    "# Working with Databases"
   ]
  },
  {
   "cell_type": "markdown",
   "metadata": {
    "slideshow": {
     "slide_type": "skip"
    }
   },
   "source": [
    "## Testing a function that queries the DB"
   ]
  },
  {
   "cell_type": "code",
   "execution_count": null,
   "metadata": {
    "ExecuteTime": {
     "end_time": "2019-02-18T03:38:43.146091Z",
     "start_time": "2019-02-18T03:38:43.131063Z"
    },
    "slideshow": {
     "slide_type": "slide"
    }
   },
   "outputs": [],
   "source": [
    "# my_data_loader.py\n",
    "import pandas as pd\n",
    "import query_database\n",
    "\n",
    "def load_data(condition=''):\n",
    "    sql_query = f'select id, type, val from some_table {condition}'\n",
    "    df_raw = query_database(sql_query)\n",
    "    df = pd.get_dummies(df_raw, columns=['type'])\n",
    "    df.index = df.pop('id')\n",
    "    return df"
   ]
  },
  {
   "cell_type": "code",
   "execution_count": null,
   "metadata": {
    "ExecuteTime": {
     "end_time": "2018-09-25T05:04:20.006668Z",
     "start_time": "2018-09-25T05:04:19.876Z"
    },
    "slideshow": {
     "slide_type": "fragment"
    }
   },
   "outputs": [],
   "source": [
    "# test_data_loader.py\n",
    "import pytest\n",
    "import my_data_loader\n",
    "from pandas.util.testing import assert_frame_equal\n",
    "\n",
    "@pytest.fixture(params=[{'condition': 'where val > 100', 'output': out1}])\n",
    "def sample_data(request):\n",
    "    return request.param\n",
    "\n",
    "def test_load_data(sample_data):\n",
    "    # problem: we might not want to query the DB as part of our tests\n",
    "    output = my_data_loader.load_data(sample_data['condition'])\n",
    "    assert_frame_equal(output, sample_data['output'])"
   ]
  },
  {
   "cell_type": "markdown",
   "metadata": {
    "slideshow": {
     "slide_type": "slide"
    }
   },
   "source": [
    "# mocker\n",
    "\n",
    "pytest-mock is a plugin that lets you patch or swap out one piece of code for another\n",
    "\n",
    "```\n",
    "\n",
    "$ pip install pytest-mock\n",
    "```"
   ]
  },
  {
   "cell_type": "markdown",
   "metadata": {
    "slideshow": {
     "slide_type": "skip"
    }
   },
   "source": [
    "## Testing a function that queries the DB"
   ]
  },
  {
   "cell_type": "code",
   "execution_count": null,
   "metadata": {
    "ExecuteTime": {
     "end_time": "2018-09-25T05:04:20.008111Z",
     "start_time": "2018-09-25T05:04:19.881Z"
    },
    "slideshow": {
     "slide_type": "slide"
    }
   },
   "outputs": [],
   "source": [
    "# my_data_loader.py\n",
    "import pandas as pd\n",
    "import query_database\n",
    "\n",
    "def load_data(condition=''):\n",
    "    sql_query = f'select id, type, val from some_table {condition}'\n",
    "    df_raw = query_database(sql_query)\n",
    "    df = pd.get_dummies(df_raw, columns=['type'])\n",
    "    df.index = df.pop('id')\n",
    "    return df"
   ]
  },
  {
   "cell_type": "code",
   "execution_count": null,
   "metadata": {
    "ExecuteTime": {
     "end_time": "2019-02-18T03:53:55.474427Z",
     "start_time": "2019-02-18T03:53:55.457502Z"
    },
    "slideshow": {
     "slide_type": "-"
    }
   },
   "outputs": [],
   "source": [
    "# test_data_loader.py\n",
    "import pytest\n",
    "import my_data_loader\n",
    "from pandas.util.testing import assert_frame_equal\n",
    "\n",
    "@pytest.fixture(params=[{'input': in1, 'output': out1}])\n",
    "def sample_data(request):\n",
    "    return request.param\n",
    "\n",
    "def test_load_data(sample_data, mocker):\n",
    "    mocker.patch('my_data_loader.query_database',\n",
    "                 side_effect=lambda x: sample_data['input'])\n",
    "    output = my_data_loader.load_data('')\n",
    "    assert_frame_equal(output, sample_data['output'])"
   ]
  },
  {
   "cell_type": "markdown",
   "metadata": {
    "slideshow": {
     "slide_type": "slide"
    }
   },
   "source": [
    "# Generating DataFrames for testing\n",
    "\n",
    "Because hardcoding input/output dataframes is *extremely* verbose"
   ]
  },
  {
   "cell_type": "markdown",
   "metadata": {
    "slideshow": {
     "slide_type": "slide"
    }
   },
   "source": [
    "# Hypothesis\n",
    "\n",
    "Automatic data generation for property based testing"
   ]
  },
  {
   "cell_type": "code",
   "execution_count": 26,
   "metadata": {
    "ExecuteTime": {
     "end_time": "2019-08-26T02:30:32.495009Z",
     "start_time": "2019-08-26T02:30:32.378066Z"
    },
    "slideshow": {
     "slide_type": "-"
    }
   },
   "outputs": [
    {
     "name": "stdout",
     "output_type": "stream",
     "text": [
      "Examples of integers:\n",
      "13\n",
      "-113\n",
      "32\n"
     ]
    }
   ],
   "source": [
    "from hypothesis import strategies as st\n",
    "\n",
    "\n",
    "print('Examples of integers:')\n",
    "print(st.integers().example())\n",
    "print(st.integers().example())\n",
    "print(st.integers().example())"
   ]
  },
  {
   "cell_type": "code",
   "execution_count": 27,
   "metadata": {
    "ExecuteTime": {
     "end_time": "2019-08-26T02:30:39.228359Z",
     "start_time": "2019-08-26T02:30:39.223687Z"
    },
    "slideshow": {
     "slide_type": "slide"
    }
   },
   "outputs": [],
   "source": [
    "# contents of demo_hypothesis.py\n",
    "from hypothesis import given\n",
    "from hypothesis import strategies as st\n",
    "\n",
    "def backwards_allcaps(text):\n",
    "    return text[::-1].upper()\n",
    "\n",
    "@given(st.text())\n",
    "def test_backwards_allcaps(input_string):\n",
    "    modified = backwards_allcaps(input_string)\n",
    "    assert input_string.upper() == ''.join(reversed(modified))"
   ]
  },
  {
   "cell_type": "markdown",
   "metadata": {
    "slideshow": {
     "slide_type": "fragment"
    }
   },
   "source": [
    "<img src=\"img/hypothesis_show_stats.png\" style=\"width: 1200px;\">"
   ]
  },
  {
   "cell_type": "markdown",
   "metadata": {
    "slideshow": {
     "slide_type": "slide"
    }
   },
   "source": [
    "# Hypothesis + Pandas"
   ]
  },
  {
   "cell_type": "code",
   "execution_count": 33,
   "metadata": {
    "ExecuteTime": {
     "end_time": "2019-08-26T02:31:24.226749Z",
     "start_time": "2019-08-26T02:31:24.153349Z"
    },
    "slideshow": {
     "slide_type": "-"
    }
   },
   "outputs": [
    {
     "data": {
      "text/html": [
       "<div>\n",
       "<style scoped>\n",
       "    .dataframe tbody tr th:only-of-type {\n",
       "        vertical-align: middle;\n",
       "    }\n",
       "\n",
       "    .dataframe tbody tr th {\n",
       "        vertical-align: top;\n",
       "    }\n",
       "\n",
       "    .dataframe thead th {\n",
       "        text-align: right;\n",
       "    }\n",
       "</style>\n",
       "<table border=\"1\" class=\"dataframe\">\n",
       "  <thead>\n",
       "    <tr style=\"text-align: right;\">\n",
       "      <th></th>\n",
       "      <th>customer</th>\n",
       "      <th>price</th>\n",
       "      <th>prob_return</th>\n",
       "    </tr>\n",
       "  </thead>\n",
       "  <tbody>\n",
       "    <tr>\n",
       "      <th>0</th>\n",
       "      <td>21152</td>\n",
       "      <td>10000000.0</td>\n",
       "      <td>0.178527</td>\n",
       "    </tr>\n",
       "    <tr>\n",
       "      <th>1</th>\n",
       "      <td>98897</td>\n",
       "      <td>10000000.0</td>\n",
       "      <td>0.178527</td>\n",
       "    </tr>\n",
       "    <tr>\n",
       "      <th>2</th>\n",
       "      <td>20738</td>\n",
       "      <td>NaN</td>\n",
       "      <td>0.268129</td>\n",
       "    </tr>\n",
       "  </tbody>\n",
       "</table>\n",
       "</div>"
      ],
      "text/plain": [
       "   customer       price  prob_return\n",
       "0     21152  10000000.0     0.178527\n",
       "1     98897  10000000.0     0.178527\n",
       "2     20738         NaN     0.268129"
      ]
     },
     "execution_count": 33,
     "metadata": {},
     "output_type": "execute_result"
    }
   ],
   "source": [
    "from hypothesis.extra.pandas import data_frames, column\n",
    "\n",
    "\n",
    "\n",
    "data_frames([column('customer',\n",
    "                    elements=st.integers(min_value=0, max_value=100_000),\n",
    "                    dtype=int, unique=True),\n",
    "             column('price', elements=st.floats()),\n",
    "             column('prob_return',\n",
    "                    elements=st.floats(min_value=0, max_value=1))\n",
    "        ]).example()"
   ]
  },
  {
   "cell_type": "markdown",
   "metadata": {
    "slideshow": {
     "slide_type": "slide"
    }
   },
   "source": [
    "# Hypothesis + Pandas"
   ]
  },
  {
   "cell_type": "code",
   "execution_count": 35,
   "metadata": {
    "ExecuteTime": {
     "end_time": "2019-08-26T02:31:30.898635Z",
     "start_time": "2019-08-26T02:31:30.843838Z"
    },
    "slideshow": {
     "slide_type": "-"
    }
   },
   "outputs": [
    {
     "data": {
      "text/html": [
       "<div>\n",
       "<style scoped>\n",
       "    .dataframe tbody tr th:only-of-type {\n",
       "        vertical-align: middle;\n",
       "    }\n",
       "\n",
       "    .dataframe tbody tr th {\n",
       "        vertical-align: top;\n",
       "    }\n",
       "\n",
       "    .dataframe thead th {\n",
       "        text-align: right;\n",
       "    }\n",
       "</style>\n",
       "<table border=\"1\" class=\"dataframe\">\n",
       "  <thead>\n",
       "    <tr style=\"text-align: right;\">\n",
       "      <th></th>\n",
       "      <th>customer</th>\n",
       "      <th>price</th>\n",
       "      <th>prob_return</th>\n",
       "    </tr>\n",
       "  </thead>\n",
       "  <tbody>\n",
       "  </tbody>\n",
       "</table>\n",
       "</div>"
      ],
      "text/plain": [
       "Empty DataFrame\n",
       "Columns: [customer, price, prob_return]\n",
       "Index: []"
      ]
     },
     "execution_count": 35,
     "metadata": {},
     "output_type": "execute_result"
    }
   ],
   "source": [
    "from hypothesis.extra.pandas import data_frames, column\n",
    "\n",
    "\n",
    "\n",
    "data_frames([column('customer',\n",
    "                    elements=st.integers(min_value=0, max_value=100_000),\n",
    "                    dtype=int, unique=True),\n",
    "             column('price', dtype='float'), \n",
    "             column('prob_return',\n",
    "                    elements=st.floats(min_value=0, max_value=1))\n",
    "            ]).example()"
   ]
  },
  {
   "cell_type": "markdown",
   "metadata": {
    "slideshow": {
     "slide_type": "slide"
    }
   },
   "source": [
    "## Testing properties of data"
   ]
  },
  {
   "cell_type": "code",
   "execution_count": 38,
   "metadata": {
    "ExecuteTime": {
     "end_time": "2019-08-26T02:31:46.389338Z",
     "start_time": "2019-08-26T02:31:46.204481Z"
    },
    "slideshow": {
     "slide_type": "-"
    }
   },
   "outputs": [
    {
     "data": {
      "image/png": "[encoded data removed]",
      "text/plain": [
       "<Figure size 576x216 with 2 Axes>"
      ]
     },
     "metadata": {},
     "output_type": "display_data"
    }
   ],
   "source": [
    "import matplotlib.pyplot as plt\n",
    "import seaborn as sns\n",
    "\n",
    "df_customers = pd.DataFrame(\n",
    "    {'days_since_last_order': np.random.randint(low=0, high=365, size=1000),\n",
    "     'num_total_orders': np.random.geometric(0.5, size=1000)})\n",
    "\n",
    "sns.set(font_scale=1.5)\n",
    "fig, (ax1, ax2) = plt.subplots(1, 2, figsize=(8, 3))\n",
    "df_customers.days_since_last_order.hist(ax=ax1)\n",
    "df_customers.num_total_orders.hist(ax=ax2)\n",
    "ax1.set_xlabel('Days Since Last Order')\n",
    "ax2.set_xlabel('Number of Total Orders')\n",
    "plt.show();"
   ]
  },
  {
   "cell_type": "markdown",
   "metadata": {
    "slideshow": {
     "slide_type": "slide"
    }
   },
   "source": [
    "## Testing properties of data"
   ]
  },
  {
   "cell_type": "code",
   "execution_count": 39,
   "metadata": {
    "ExecuteTime": {
     "end_time": "2019-08-26T02:31:50.381072Z",
     "start_time": "2019-08-26T02:31:50.248442Z"
    },
    "slideshow": {
     "slide_type": "-"
    }
   },
   "outputs": [
    {
     "data": {
      "image/png": "[encoded data removed]",
      "text/plain": [
       "<Figure size 432x288 with 1 Axes>"
      ]
     },
     "metadata": {},
     "output_type": "display_data"
    }
   ],
   "source": [
    "from scipy.special import expit  # logistic function\n",
    "\n",
    "def probability_loyal_customer(df):\n",
    "    \"Return customer probability of returning.\"\n",
    "    p_num_orders = df.num_total_orders.apply(expit)\n",
    "    p_days_ago = df.days_since_last_order / df.days_since_last_order.max()\n",
    "    p_loyal = p_days_ago * p_num_orders\n",
    "    return p_loyal\n",
    "\n",
    "prob_loyal = probability_loyal_customer(df_customers)\n",
    "prob_loyal.hist()\n",
    "plt.xlabel('Loyal Customer Probability');"
   ]
  },
  {
   "cell_type": "code",
   "execution_count": 40,
   "metadata": {
    "ExecuteTime": {
     "end_time": "2019-08-26T02:31:55.208575Z",
     "start_time": "2019-08-26T02:31:55.202422Z"
    },
    "slideshow": {
     "slide_type": "slide"
    }
   },
   "outputs": [],
   "source": [
    "# contents of demo_pandas_hypothesis.py\n",
    "from hypothesis import given\n",
    "from hypothesis import strategies as st\n",
    "from hypothesis.extra.pandas import data_frames, column\n",
    "from scipy.special import expit\n",
    "\n",
    "\n",
    "def probability_loyal_customer(df):\n",
    "    \"Return customer probability of returning.\"\n",
    "    p_num_orders = df.num_total_orders.apply(expit)\n",
    "    p_days_ago = df.days_since_last_order / df.days_since_last_order.max()\n",
    "    p_loyal = p_days_ago * p_num_orders\n",
    "    return p_loyal\n",
    "\n",
    "\n",
    "@given(\n",
    "    data_frames([\n",
    "        column('days_since_last_order', dtype=int,\n",
    "               elements=st.integers(min_value=0, max_value=365)),\n",
    "        column('num_total_orders', dtype=int,\n",
    "               elements=st.integers(min_value=0, max_value=1_000_000))])\n",
    ")\n",
    "def test_prob_loyality(df):\n",
    "    p = probability_loyal_customer(df)\n",
    "    assert p.between(0, 1, inclusive=True).all()"
   ]
  },
  {
   "cell_type": "markdown",
   "metadata": {
    "ExecuteTime": {
     "end_time": "2019-02-20T04:48:45.890158Z",
     "start_time": "2019-02-20T04:48:45.883113Z"
    },
    "slideshow": {
     "slide_type": "slide"
    }
   },
   "source": [
    "<img src=\"img/pandas_hypothesis.png\" style=\"width: 1200px;\">"
   ]
  },
  {
   "cell_type": "markdown",
   "metadata": {
    "slideshow": {
     "slide_type": "slide"
    }
   },
   "source": [
    "# Property-based Testing with Hypothesis\n",
    "\n",
    "- Useful when you can describe the **types of input** data your function can accept, and **properties of the output** that should always be true\n",
    "- Helpful to avoid verbose hardcoding of dataframes\n",
    "- Tests for edge cases you wouldn't have thought of\n",
    "- Complement to testing specific inputs/outputs"
   ]
  },
  {
   "cell_type": "markdown",
   "metadata": {
    "slideshow": {
     "slide_type": "slide"
    }
   },
   "source": [
    "# A few additional pytest features..."
   ]
  },
  {
   "cell_type": "markdown",
   "metadata": {
    "slideshow": {
     "slide_type": "slide"
    }
   },
   "source": [
    "## tmpdir\n",
    "\n",
    "- create temporary directories and files that your tests need\n",
    "- automatically removed afterwards\n",
    "- see also tmpdir_factory"
   ]
  },
  {
   "cell_type": "code",
   "execution_count": 41,
   "metadata": {
    "ExecuteTime": {
     "end_time": "2019-08-26T02:32:04.404521Z",
     "start_time": "2019-08-26T02:32:04.400980Z"
    },
    "slideshow": {
     "slide_type": "fragment"
    }
   },
   "outputs": [],
   "source": [
    "# example from pytest documentation\n",
    "\n",
    "def test_create_file(tmpdir):\n",
    "    p = tmpdir.mkdir(\"sub\").join(\"hello.txt\")\n",
    "    p.write(\"content\")\n",
    "    assert p.read() == \"content\"\n",
    "    assert len(tmpdir.listdir()) == 1"
   ]
  },
  {
   "cell_type": "markdown",
   "metadata": {
    "slideshow": {
     "slide_type": "slide"
    }
   },
   "source": [
    "# mark\n",
    "\n",
    "you can organize your tests using marks - there are a few built in ones, and you can create your own"
   ]
  },
  {
   "cell_type": "code",
   "execution_count": 42,
   "metadata": {
    "ExecuteTime": {
     "end_time": "2019-08-26T02:32:08.619286Z",
     "start_time": "2019-08-26T02:32:08.615394Z"
    },
    "slideshow": {
     "slide_type": "fragment"
    }
   },
   "outputs": [],
   "source": [
    "import pytest\n",
    "import sys\n",
    "\n",
    "@pytest.mark.skip\n",
    "def test_always_skip():\n",
    "    pass\n",
    "\n",
    "@pytest.mark.skipif(sys.platform == 'darwin',\n",
    "                    reason='Feature not supported on OS X')\n",
    "def test_not_on_mac():\n",
    "    pass\n",
    "\n",
    "@pytest.mark.slow  # custom mark\n",
    "def test_that_takes_a_long_time():\n",
    "    pass"
   ]
  },
  {
   "cell_type": "markdown",
   "metadata": {
    "slideshow": {
     "slide_type": "fragment"
    }
   },
   "source": [
    "```sh\n",
    "$ pytest -m slow\n",
    "```"
   ]
  },
  {
   "cell_type": "markdown",
   "metadata": {
    "slideshow": {
     "slide_type": "slide"
    }
   },
   "source": [
    "## More on fixtures\n",
    "\n",
    "- we already used fixtures to parametrize our tests\n",
    "- many other uses\n",
    "- keeps execution of a test separate from anything else thats needed, so the test function itself is as simple and clear as possible\n",
    "- can optionally have scope, so is only run once per session, module, etc"
   ]
  },
  {
   "cell_type": "code",
   "execution_count": 44,
   "metadata": {
    "ExecuteTime": {
     "end_time": "2019-08-26T02:32:24.507770Z",
     "start_time": "2019-08-26T02:32:24.504105Z"
    },
    "slideshow": {
     "slide_type": "fragment"
    }
   },
   "outputs": [],
   "source": [
    "# example from pytest documentation\n",
    "\n",
    "import smtplib\n",
    "import pytest\n",
    "\n",
    "\n",
    "@pytest.fixture(scope=\"module\")\n",
    "def smtp_connection(request):\n",
    "    smtp_connection = smtplib.SMTP(\"smtp.gmail.com\", 587, timeout=5)\n",
    "\n",
    "    def fin():\n",
    "        # teardown smtp_connection\n",
    "        smtp_connection.close()\n",
    "\n",
    "    request.addfinalizer(fin)\n",
    "    return smtp_connection  # provide the fixture value"
   ]
  },
  {
   "cell_type": "markdown",
   "metadata": {
    "slideshow": {
     "slide_type": "slide"
    }
   },
   "source": [
    "## parametrize"
   ]
  },
  {
   "cell_type": "code",
   "execution_count": 45,
   "metadata": {
    "ExecuteTime": {
     "end_time": "2019-08-26T02:32:31.237785Z",
     "start_time": "2019-08-26T02:32:31.233277Z"
    },
    "slideshow": {
     "slide_type": "fragment"
    }
   },
   "outputs": [],
   "source": [
    "# example from pytest documentation\n",
    "\n",
    "import pytest\n",
    "\n",
    "\n",
    "@pytest.mark.parametrize(\"x, y\", [(0, 1), (2, 3)])\n",
    "def test_foo(x, y):\n",
    "    assert x + 1 == y\n",
    "\n",
    "\n",
    "@pytest.mark.parametrize(\"x\", [0, 1])\n",
    "@pytest.mark.parametrize(\"y\", [2, 3])\n",
    "def test_more_foo(x, y):\n",
    "    pass  # all combinations of x, y"
   ]
  },
  {
   "cell_type": "markdown",
   "metadata": {
    "slideshow": {
     "slide_type": "slide"
    }
   },
   "source": [
    "## Cool related projects to be aware of\n",
    "\n",
    "- [pytest-xdist](https://docs.pytest.org/en/3.0.1/xdist.html) plugin for pytest so you can run tests faster in parallel\n",
    "- [pytest-cov](https://pytest-cov.readthedocs.io/en/latest/index.html) plugin for measuring test coverage\n",
    "- [engarde](https://engarde.readthedocs.io/en/latest/index.html) for defensive data analysis with pandas"
   ]
  },
  {
   "cell_type": "markdown",
   "metadata": {
    "slideshow": {
     "slide_type": "slide"
    }
   },
   "source": [
    "# Wrap Up\n",
    "\n",
    "- data scientists should not *always* write tests\n",
    "  - (but we should always practice defensive programming)\n",
    "- any reused or shared piece of code should probably be tested, especially in production\n",
    "- strive for a balance between speed and confidence in your results\n",
    "  - testing can help you acheive this!"
   ]
  },
  {
   "cell_type": "markdown",
   "metadata": {
    "slideshow": {
     "slide_type": "fragment"
    }
   },
   "source": [
    "### Some aspects of data science code are really hard to test!\n",
    "\n",
    "- ML results? probabilistic outcomes?\n",
    "- Think about testing properties of your data\n",
    "  - distributions, missing data, expected features and datatypes"
   ]
  },
  {
   "cell_type": "markdown",
   "metadata": {
    "slideshow": {
     "slide_type": "slide"
    }
   },
   "source": [
    "## Resources & Credits\n",
    "\n",
    "- **General testing resources**\n",
    "  - Andreas Pelme's [Introduction to pytest](https://www.youtube.com/watch?v=LdVJj65ikRY) from EuroPython 2014\n",
    "  - Mark Vousden's [Python testing](https://www.youtube.com/channel/UCKaKhMyhboLoMwmeF9yxg9w) 3-part series of youtube videos\n",
    "  - Justin Crown's [\"WHAT IS THIS MESS?\" - Writing tests for pre-existing code bases](https://www.youtube.com/watch?v=LDdUuoI_lIg) from PyCon 2018\n",
    "  - Ned Batchelder's [Getting Started Testing](https://www.youtube.com/watch?v=FxSsnHeWQBY) from PyCon 2014 (focuses on unittest)\n",
    "\n",
    "- **Data Science specific resources**\n",
    "  - Trey Causey's [Testing for Data Scientists](https://www.youtube.com/watch?v=GEqM9uJi64Q) from PyData Seattle 2015\n",
    "  - Eric Ma's [Best Testing Practice's for Data Science Tutorial](https://www.youtube.com/watch?v=yACtdj1_IxE) from PyCon 2017, with GitHub notebooks [here](https://github.com/ericmjl/data-testing-tutorial)"
   ]
  },
  {
   "cell_type": "markdown",
   "metadata": {
    "slideshow": {
     "slide_type": "fragment"
    }
   },
   "source": [
    "## Link to my slides/notebook on GitHub\n",
    "\n",
    "https://github.com/jesford/testing-in-data-science"
   ]
  },
  {
   "cell_type": "markdown",
   "metadata": {
    "slideshow": {
     "slide_type": "slide"
    }
   },
   "source": [
    "<img src=\"img/thankyou.png\" style=\"width: 1000px;\">"
   ]
  }
 ],
 "metadata": {
  "celltoolbar": "Slideshow",
  "kernelspec": {
   "display_name": "Python 3",
   "language": "python",
   "name": "python3"
  },
  "language_info": {
   "codemirror_mode": {
    "name": "ipython",
    "version": 3
   },
   "file_extension": ".py",
   "mimetype": "text/x-python",
   "name": "python",
   "nbconvert_exporter": "python",
   "pygments_lexer": "ipython3",
   "version": "3.7.2"
  }
 },
 "nbformat": 4,
 "nbformat_minor": 2
}
